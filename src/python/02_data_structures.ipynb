{
 "cells": [
  {
   "cell_type": "markdown",
   "id": "e0ccb845",
   "metadata": {},
   "source": [
    "# Numbers"
   ]
  },
  {
   "cell_type": "code",
   "execution_count": null,
   "id": "7565b8ec",
   "metadata": {},
   "outputs": [],
   "source": [
    "11 + 2"
   ]
  },
  {
   "cell_type": "code",
   "execution_count": null,
   "id": "8328aa03",
   "metadata": {},
   "outputs": [],
   "source": [
    "11 - 2"
   ]
  },
  {
   "cell_type": "code",
   "execution_count": null,
   "id": "9b3bec28",
   "metadata": {},
   "outputs": [],
   "source": [
    "11 * 2"
   ]
  },
  {
   "cell_type": "code",
   "execution_count": 133,
   "id": "867f99ee",
   "metadata": {},
   "outputs": [
    {
     "data": {
      "text/plain": [
       "5.5"
      ]
     },
     "execution_count": 133,
     "metadata": {},
     "output_type": "execute_result"
    }
   ],
   "source": [
    "11 / 2"
   ]
  },
  {
   "cell_type": "code",
   "execution_count": 134,
   "id": "2a51a47d",
   "metadata": {},
   "outputs": [
    {
     "data": {
      "text/plain": [
       "1"
      ]
     },
     "execution_count": 134,
     "metadata": {},
     "output_type": "execute_result"
    }
   ],
   "source": [
    "11 % 2"
   ]
  },
  {
   "cell_type": "code",
   "execution_count": 135,
   "id": "c13ab91e",
   "metadata": {},
   "outputs": [
    {
     "data": {
      "text/plain": [
       "5"
      ]
     },
     "execution_count": 135,
     "metadata": {},
     "output_type": "execute_result"
    }
   ],
   "source": [
    "11 // 2"
   ]
  },
  {
   "cell_type": "code",
   "execution_count": 136,
   "id": "75b1a041",
   "metadata": {},
   "outputs": [
    {
     "data": {
      "text/plain": [
       "121"
      ]
     },
     "execution_count": 136,
     "metadata": {},
     "output_type": "execute_result"
    }
   ],
   "source": [
    "11 ** 2"
   ]
  },
  {
   "cell_type": "markdown",
   "id": "f8f10efa",
   "metadata": {},
   "source": [
    "# List\n",
    "- Group same type of values\n",
    "- [1,2,3] - comma separted values in square brackets.\n",
    "- https://docs.python.org/3/tutorial/datastructures.html"
   ]
  },
  {
   "cell_type": "code",
   "execution_count": 92,
   "id": "f5a1eb2a",
   "metadata": {},
   "outputs": [],
   "source": [
    "x = [0,1,2,3,4]"
   ]
  },
  {
   "cell_type": "code",
   "execution_count": 93,
   "id": "e4dfbcf4",
   "metadata": {},
   "outputs": [
    {
     "data": {
      "text/plain": [
       "[0, 1, 2, 3, 4]"
      ]
     },
     "execution_count": 93,
     "metadata": {},
     "output_type": "execute_result"
    }
   ],
   "source": [
    "x"
   ]
  },
  {
   "cell_type": "code",
   "execution_count": 94,
   "id": "6f5aa11c",
   "metadata": {},
   "outputs": [
    {
     "data": {
      "text/plain": [
       "True"
      ]
     },
     "execution_count": 94,
     "metadata": {},
     "output_type": "execute_result"
    }
   ],
   "source": [
    "3 in x"
   ]
  },
  {
   "cell_type": "code",
   "execution_count": 13,
   "id": "ce1e5373",
   "metadata": {},
   "outputs": [
    {
     "data": {
      "text/plain": [
       "5"
      ]
     },
     "execution_count": 13,
     "metadata": {},
     "output_type": "execute_result"
    }
   ],
   "source": [
    "len(x)"
   ]
  },
  {
   "cell_type": "code",
   "execution_count": 14,
   "id": "ee0ef520",
   "metadata": {},
   "outputs": [
    {
     "data": {
      "text/plain": [
       "0"
      ]
     },
     "execution_count": 14,
     "metadata": {},
     "output_type": "execute_result"
    }
   ],
   "source": [
    "x[0]"
   ]
  },
  {
   "cell_type": "code",
   "execution_count": 15,
   "id": "f7971731",
   "metadata": {},
   "outputs": [
    {
     "data": {
      "text/plain": [
       "4"
      ]
     },
     "execution_count": 15,
     "metadata": {},
     "output_type": "execute_result"
    }
   ],
   "source": [
    "x[4]"
   ]
  },
  {
   "cell_type": "code",
   "execution_count": 16,
   "id": "b5db2d12",
   "metadata": {},
   "outputs": [
    {
     "data": {
      "text/plain": [
       "[0, 1, 2, 3, 4]"
      ]
     },
     "execution_count": 16,
     "metadata": {},
     "output_type": "execute_result"
    }
   ],
   "source": [
    "x[:]"
   ]
  },
  {
   "cell_type": "code",
   "execution_count": 17,
   "id": "cbfb5012",
   "metadata": {},
   "outputs": [
    {
     "data": {
      "text/plain": [
       "[2, 3]"
      ]
     },
     "execution_count": 17,
     "metadata": {},
     "output_type": "execute_result"
    }
   ],
   "source": [
    "x[2:4]"
   ]
  },
  {
   "cell_type": "code",
   "execution_count": 18,
   "id": "ea22ef67",
   "metadata": {},
   "outputs": [
    {
     "data": {
      "text/plain": [
       "[2, 3, 4]"
      ]
     },
     "execution_count": 18,
     "metadata": {},
     "output_type": "execute_result"
    }
   ],
   "source": [
    "x[2:]"
   ]
  },
  {
   "cell_type": "code",
   "execution_count": 19,
   "id": "5117dfb7",
   "metadata": {},
   "outputs": [
    {
     "data": {
      "text/plain": [
       "[0, 1, 2, 3]"
      ]
     },
     "execution_count": 19,
     "metadata": {},
     "output_type": "execute_result"
    }
   ],
   "source": [
    "x[:4]"
   ]
  },
  {
   "cell_type": "code",
   "execution_count": 20,
   "id": "f12d6fa0",
   "metadata": {},
   "outputs": [
    {
     "data": {
      "text/plain": [
       "[0, 1, 2, 3, 4, 5, 6]"
      ]
     },
     "execution_count": 20,
     "metadata": {},
     "output_type": "execute_result"
    }
   ],
   "source": [
    "x + [5,6]"
   ]
  },
  {
   "cell_type": "code",
   "execution_count": 21,
   "id": "5b323c4a",
   "metadata": {},
   "outputs": [],
   "source": [
    "y = x + x + [5,6]"
   ]
  },
  {
   "cell_type": "code",
   "execution_count": 22,
   "id": "f8419571",
   "metadata": {},
   "outputs": [
    {
     "data": {
      "text/plain": [
       "[0, 1, 2, 3, 4, 0, 1, 2, 3, 4, 5, 6]"
      ]
     },
     "execution_count": 22,
     "metadata": {},
     "output_type": "execute_result"
    }
   ],
   "source": [
    "y"
   ]
  },
  {
   "cell_type": "code",
   "execution_count": 23,
   "id": "89bc325e",
   "metadata": {},
   "outputs": [],
   "source": [
    "# Functions on lists"
   ]
  },
  {
   "cell_type": "code",
   "execution_count": 38,
   "id": "f9844ce3",
   "metadata": {},
   "outputs": [],
   "source": [
    "x = [0, 1, 2, 3, 4]"
   ]
  },
  {
   "cell_type": "code",
   "execution_count": 39,
   "id": "0c917cc0",
   "metadata": {},
   "outputs": [],
   "source": [
    "x.append(5)"
   ]
  },
  {
   "cell_type": "code",
   "execution_count": 40,
   "id": "cea45208",
   "metadata": {},
   "outputs": [
    {
     "data": {
      "text/plain": [
       "[0, 1, 2, 3, 4, 5]"
      ]
     },
     "execution_count": 40,
     "metadata": {},
     "output_type": "execute_result"
    }
   ],
   "source": [
    "x"
   ]
  },
  {
   "cell_type": "code",
   "execution_count": 41,
   "id": "2bc211d3",
   "metadata": {},
   "outputs": [],
   "source": [
    "x.extend([10,11])"
   ]
  },
  {
   "cell_type": "code",
   "execution_count": 42,
   "id": "28a80d66",
   "metadata": {},
   "outputs": [
    {
     "data": {
      "text/plain": [
       "[0, 1, 2, 3, 4, 5, 10, 11]"
      ]
     },
     "execution_count": 42,
     "metadata": {},
     "output_type": "execute_result"
    }
   ],
   "source": [
    "x"
   ]
  },
  {
   "cell_type": "code",
   "execution_count": 43,
   "id": "eb3dcc2c",
   "metadata": {},
   "outputs": [],
   "source": [
    "x.insert(2, 20)"
   ]
  },
  {
   "cell_type": "code",
   "execution_count": 44,
   "id": "5aa33524",
   "metadata": {},
   "outputs": [
    {
     "data": {
      "text/plain": [
       "[0, 1, 20, 2, 3, 4, 5, 10, 11]"
      ]
     },
     "execution_count": 44,
     "metadata": {},
     "output_type": "execute_result"
    }
   ],
   "source": [
    "x"
   ]
  },
  {
   "cell_type": "code",
   "execution_count": 45,
   "id": "2ac86ed1",
   "metadata": {},
   "outputs": [],
   "source": [
    "x.remove(1) # removes only the first occurence"
   ]
  },
  {
   "cell_type": "code",
   "execution_count": 46,
   "id": "0268987c",
   "metadata": {},
   "outputs": [
    {
     "data": {
      "text/plain": [
       "[0, 20, 2, 3, 4, 5, 10, 11]"
      ]
     },
     "execution_count": 46,
     "metadata": {},
     "output_type": "execute_result"
    }
   ],
   "source": [
    "x"
   ]
  },
  {
   "cell_type": "code",
   "execution_count": 47,
   "id": "48bc4fde",
   "metadata": {},
   "outputs": [
    {
     "data": {
      "text/plain": [
       "11"
      ]
     },
     "execution_count": 47,
     "metadata": {},
     "output_type": "execute_result"
    }
   ],
   "source": [
    "x.pop()"
   ]
  },
  {
   "cell_type": "code",
   "execution_count": 48,
   "id": "2d2abdf6",
   "metadata": {},
   "outputs": [
    {
     "data": {
      "text/plain": [
       "[0, 20, 2, 3, 4, 5, 10]"
      ]
     },
     "execution_count": 48,
     "metadata": {},
     "output_type": "execute_result"
    }
   ],
   "source": [
    "x"
   ]
  },
  {
   "cell_type": "code",
   "execution_count": 51,
   "id": "50732091",
   "metadata": {},
   "outputs": [
    {
     "data": {
      "text/plain": [
       "20"
      ]
     },
     "execution_count": 51,
     "metadata": {},
     "output_type": "execute_result"
    }
   ],
   "source": [
    "x.pop(1)"
   ]
  },
  {
   "cell_type": "code",
   "execution_count": 52,
   "id": "c131d313",
   "metadata": {},
   "outputs": [
    {
     "data": {
      "text/plain": [
       "[0, 4, 5, 10]"
      ]
     },
     "execution_count": 52,
     "metadata": {},
     "output_type": "execute_result"
    }
   ],
   "source": [
    "x"
   ]
  },
  {
   "cell_type": "code",
   "execution_count": 53,
   "id": "4457879a",
   "metadata": {},
   "outputs": [
    {
     "data": {
      "text/plain": [
       "2"
      ]
     },
     "execution_count": 53,
     "metadata": {},
     "output_type": "execute_result"
    }
   ],
   "source": [
    "[1,2,3,1,2,5].count(1)"
   ]
  },
  {
   "cell_type": "code",
   "execution_count": 54,
   "id": "b2b4a49b",
   "metadata": {},
   "outputs": [
    {
     "data": {
      "text/plain": [
       "1"
      ]
     },
     "execution_count": 54,
     "metadata": {},
     "output_type": "execute_result"
    }
   ],
   "source": [
    "[1,2,3,1,2,5].index(2)"
   ]
  },
  {
   "cell_type": "code",
   "execution_count": 56,
   "id": "9b184a38",
   "metadata": {},
   "outputs": [
    {
     "data": {
      "text/plain": [
       "[1, 1, 2, 2, 3, 5]"
      ]
     },
     "execution_count": 56,
     "metadata": {},
     "output_type": "execute_result"
    }
   ],
   "source": [
    "sorted([1,2,3,1,2,5])"
   ]
  },
  {
   "cell_type": "code",
   "execution_count": 58,
   "id": "f6777f2c",
   "metadata": {},
   "outputs": [
    {
     "data": {
      "text/plain": [
       "[1, 1, 2, 2, 3, 5]"
      ]
     },
     "execution_count": 58,
     "metadata": {},
     "output_type": "execute_result"
    }
   ],
   "source": [
    "a = [1,2,3,1,2,5] \n",
    "a.sort() # in place sort\n",
    "a"
   ]
  },
  {
   "cell_type": "code",
   "execution_count": 61,
   "id": "2fcf8d22",
   "metadata": {},
   "outputs": [
    {
     "data": {
      "text/plain": [
       "[5, 2, 1, 3, 2, 1]"
      ]
     },
     "execution_count": 61,
     "metadata": {},
     "output_type": "execute_result"
    }
   ],
   "source": [
    "a = [1,2,3,1,2,5] \n",
    "a.reverse() # in place reverse\n",
    "a"
   ]
  },
  {
   "cell_type": "markdown",
   "id": "db163bc0",
   "metadata": {},
   "source": [
    "# Stacks\n",
    "- LIFO - the last element added is the first element retrieved (“last-in, first-out”)\n",
    "- list.append() : to add at the last or top.\n",
    "- list.pop() : to remove from last or top."
   ]
  },
  {
   "cell_type": "code",
   "execution_count": 62,
   "id": "a55e3315",
   "metadata": {},
   "outputs": [],
   "source": [
    "stack = [3, 4, 5]"
   ]
  },
  {
   "cell_type": "code",
   "execution_count": 63,
   "id": "1a9b67f6",
   "metadata": {},
   "outputs": [],
   "source": [
    "stack.append(6)\n",
    "stack.append(7)"
   ]
  },
  {
   "cell_type": "code",
   "execution_count": 65,
   "id": "ee03958b",
   "metadata": {},
   "outputs": [
    {
     "data": {
      "text/plain": [
       "[3, 4, 5, 6, 7]"
      ]
     },
     "execution_count": 65,
     "metadata": {},
     "output_type": "execute_result"
    }
   ],
   "source": [
    "stack"
   ]
  },
  {
   "cell_type": "code",
   "execution_count": 66,
   "id": "b80fe542",
   "metadata": {},
   "outputs": [
    {
     "data": {
      "text/plain": [
       "7"
      ]
     },
     "execution_count": 66,
     "metadata": {},
     "output_type": "execute_result"
    }
   ],
   "source": [
    "stack.pop()"
   ]
  },
  {
   "cell_type": "code",
   "execution_count": 68,
   "id": "85798459",
   "metadata": {},
   "outputs": [
    {
     "data": {
      "text/plain": [
       "[3, 4, 5, 6]"
      ]
     },
     "execution_count": 68,
     "metadata": {},
     "output_type": "execute_result"
    }
   ],
   "source": [
    "stack"
   ]
  },
  {
   "cell_type": "code",
   "execution_count": 70,
   "id": "4d1ee2c8",
   "metadata": {},
   "outputs": [
    {
     "data": {
      "text/plain": [
       "6"
      ]
     },
     "execution_count": 70,
     "metadata": {},
     "output_type": "execute_result"
    }
   ],
   "source": [
    "stack[len(stack) - 1]"
   ]
  },
  {
   "cell_type": "markdown",
   "id": "f9aa64c0",
   "metadata": {},
   "source": [
    "# Queues\n",
    "- FIFO - where the first element added is the first element retrieved (“first-in, first-out”)\n",
    "- use collections.deque which was designed to have fast appends and pops from both ends."
   ]
  },
  {
   "cell_type": "code",
   "execution_count": 71,
   "id": "ecaf2e40",
   "metadata": {},
   "outputs": [],
   "source": [
    "from collections import deque"
   ]
  },
  {
   "cell_type": "code",
   "execution_count": 72,
   "id": "fe5df95e",
   "metadata": {},
   "outputs": [],
   "source": [
    "queue = deque([\"Eric\", \"John\", \"Michael\"])"
   ]
  },
  {
   "cell_type": "code",
   "execution_count": 73,
   "id": "1d542808",
   "metadata": {},
   "outputs": [],
   "source": [
    "queue.append(\"Terry\")"
   ]
  },
  {
   "cell_type": "code",
   "execution_count": 74,
   "id": "f815b352",
   "metadata": {},
   "outputs": [],
   "source": [
    "queue.append(\"Graham\")      "
   ]
  },
  {
   "cell_type": "code",
   "execution_count": 75,
   "id": "74ca0d50",
   "metadata": {},
   "outputs": [
    {
     "data": {
      "text/plain": [
       "deque(['Eric', 'John', 'Michael', 'Terry', 'Graham'])"
      ]
     },
     "execution_count": 75,
     "metadata": {},
     "output_type": "execute_result"
    }
   ],
   "source": [
    "queue"
   ]
  },
  {
   "cell_type": "code",
   "execution_count": 76,
   "id": "501d915e",
   "metadata": {},
   "outputs": [
    {
     "data": {
      "text/plain": [
       "'Eric'"
      ]
     },
     "execution_count": 76,
     "metadata": {},
     "output_type": "execute_result"
    }
   ],
   "source": [
    "queue.popleft()               "
   ]
  },
  {
   "cell_type": "code",
   "execution_count": 77,
   "id": "61fc0e12",
   "metadata": {},
   "outputs": [
    {
     "data": {
      "text/plain": [
       "deque(['John', 'Michael', 'Terry', 'Graham'])"
      ]
     },
     "execution_count": 77,
     "metadata": {},
     "output_type": "execute_result"
    }
   ],
   "source": [
    "queue"
   ]
  },
  {
   "cell_type": "markdown",
   "id": "fde3e8e3",
   "metadata": {},
   "source": [
    "# Nested Lists\n",
    "- list of lists"
   ]
  },
  {
   "cell_type": "code",
   "execution_count": 80,
   "id": "fb59a9e6",
   "metadata": {},
   "outputs": [],
   "source": [
    "temp = []\n",
    "for i in range(10):\n",
    "    temp.append([])"
   ]
  },
  {
   "cell_type": "code",
   "execution_count": 81,
   "id": "f2606787",
   "metadata": {},
   "outputs": [
    {
     "data": {
      "text/plain": [
       "[[], [], [], [], [], [], [], [], [], []]"
      ]
     },
     "execution_count": 81,
     "metadata": {},
     "output_type": "execute_result"
    }
   ],
   "source": [
    "temp"
   ]
  },
  {
   "cell_type": "code",
   "execution_count": 83,
   "id": "93ccfcb5",
   "metadata": {},
   "outputs": [],
   "source": [
    "temp = []\n",
    "for i in range(10):\n",
    "    temp.append([])\n",
    "    for j in range(5):\n",
    "        temp[i].append(j)"
   ]
  },
  {
   "cell_type": "code",
   "execution_count": 84,
   "id": "536e834d",
   "metadata": {},
   "outputs": [
    {
     "data": {
      "text/plain": [
       "[[0, 1, 2, 3, 4],\n",
       " [0, 1, 2, 3, 4],\n",
       " [0, 1, 2, 3, 4],\n",
       " [0, 1, 2, 3, 4],\n",
       " [0, 1, 2, 3, 4],\n",
       " [0, 1, 2, 3, 4],\n",
       " [0, 1, 2, 3, 4],\n",
       " [0, 1, 2, 3, 4],\n",
       " [0, 1, 2, 3, 4],\n",
       " [0, 1, 2, 3, 4]]"
      ]
     },
     "execution_count": 84,
     "metadata": {},
     "output_type": "execute_result"
    }
   ],
   "source": [
    "temp"
   ]
  },
  {
   "cell_type": "code",
   "execution_count": 85,
   "id": "768ff06a",
   "metadata": {},
   "outputs": [
    {
     "data": {
      "text/plain": [
       "[0, 1, 2, 3, 4]"
      ]
     },
     "execution_count": 85,
     "metadata": {},
     "output_type": "execute_result"
    }
   ],
   "source": [
    "temp[0]"
   ]
  },
  {
   "cell_type": "code",
   "execution_count": 86,
   "id": "4db8ade9",
   "metadata": {},
   "outputs": [
    {
     "data": {
      "text/plain": [
       "[0, 1, 2, 3, 4]"
      ]
     },
     "execution_count": 86,
     "metadata": {},
     "output_type": "execute_result"
    }
   ],
   "source": [
    "temp[2]"
   ]
  },
  {
   "cell_type": "code",
   "execution_count": 87,
   "id": "961e63ef",
   "metadata": {},
   "outputs": [
    {
     "data": {
      "text/plain": [
       "3"
      ]
     },
     "execution_count": 87,
     "metadata": {},
     "output_type": "execute_result"
    }
   ],
   "source": [
    "temp[2][3]"
   ]
  },
  {
   "cell_type": "markdown",
   "id": "f15919f0",
   "metadata": {},
   "source": [
    "# Sets\n",
    "- an unordered collection with no duplicate elements.\n",
    "- support mathematical operations like union, intersection, difference, and symmetric difference."
   ]
  },
  {
   "cell_type": "code",
   "execution_count": 105,
   "id": "9581f8fa",
   "metadata": {},
   "outputs": [],
   "source": [
    "basket = {'apple', 'banana', 'orange', 'apple'}"
   ]
  },
  {
   "cell_type": "code",
   "execution_count": 106,
   "id": "3c73b012",
   "metadata": {},
   "outputs": [
    {
     "data": {
      "text/plain": [
       "{'apple', 'banana', 'orange'}"
      ]
     },
     "execution_count": 106,
     "metadata": {},
     "output_type": "execute_result"
    }
   ],
   "source": [
    "basket"
   ]
  },
  {
   "cell_type": "code",
   "execution_count": 107,
   "id": "43cf6efa",
   "metadata": {},
   "outputs": [
    {
     "data": {
      "text/plain": [
       "True"
      ]
     },
     "execution_count": 107,
     "metadata": {},
     "output_type": "execute_result"
    }
   ],
   "source": [
    "'orange' in basket"
   ]
  },
  {
   "cell_type": "code",
   "execution_count": 108,
   "id": "03398ac0",
   "metadata": {},
   "outputs": [
    {
     "data": {
      "text/plain": [
       "False"
      ]
     },
     "execution_count": 108,
     "metadata": {},
     "output_type": "execute_result"
    }
   ],
   "source": [
    "'mango' in basket"
   ]
  },
  {
   "cell_type": "code",
   "execution_count": 109,
   "id": "70b0dd2b",
   "metadata": {},
   "outputs": [],
   "source": [
    "basket2 = {'apple', 'banana', 'mango'}"
   ]
  },
  {
   "cell_type": "code",
   "execution_count": 114,
   "id": "b9f01281",
   "metadata": {},
   "outputs": [
    {
     "data": {
      "text/plain": [
       "{'apple', 'banana', 'mango'}"
      ]
     },
     "execution_count": 114,
     "metadata": {},
     "output_type": "execute_result"
    }
   ],
   "source": [
    "basket2"
   ]
  },
  {
   "cell_type": "code",
   "execution_count": 111,
   "id": "39646653",
   "metadata": {},
   "outputs": [
    {
     "data": {
      "text/plain": [
       "{'apple', 'banana', 'mango', 'orange'}"
      ]
     },
     "execution_count": 111,
     "metadata": {},
     "output_type": "execute_result"
    }
   ],
   "source": [
    "basket | basket2 # OR - in either"
   ]
  },
  {
   "cell_type": "code",
   "execution_count": 112,
   "id": "ee1a2332",
   "metadata": {},
   "outputs": [
    {
     "data": {
      "text/plain": [
       "{'apple', 'banana'}"
      ]
     },
     "execution_count": 112,
     "metadata": {},
     "output_type": "execute_result"
    }
   ],
   "source": [
    "basket & basket2 # AND - in both"
   ]
  },
  {
   "cell_type": "code",
   "execution_count": 113,
   "id": "019b2df2",
   "metadata": {},
   "outputs": [
    {
     "data": {
      "text/plain": [
       "{'mango', 'orange'}"
      ]
     },
     "execution_count": 113,
     "metadata": {},
     "output_type": "execute_result"
    }
   ],
   "source": [
    "basket ^ basket2 # XOR - not in both"
   ]
  },
  {
   "cell_type": "code",
   "execution_count": 115,
   "id": "c4501121",
   "metadata": {},
   "outputs": [
    {
     "data": {
      "text/plain": [
       "{'orange'}"
      ]
     },
     "execution_count": 115,
     "metadata": {},
     "output_type": "execute_result"
    }
   ],
   "source": [
    "basket - basket2"
   ]
  },
  {
   "cell_type": "code",
   "execution_count": 116,
   "id": "1869e8ca",
   "metadata": {},
   "outputs": [
    {
     "data": {
      "text/plain": [
       "{'mango'}"
      ]
     },
     "execution_count": 116,
     "metadata": {},
     "output_type": "execute_result"
    }
   ],
   "source": [
    "basket2 - basket"
   ]
  },
  {
   "cell_type": "markdown",
   "id": "1036e6d4",
   "metadata": {},
   "source": [
    "# Loop Techniques"
   ]
  },
  {
   "cell_type": "code",
   "execution_count": 118,
   "id": "3601f5a9",
   "metadata": {},
   "outputs": [
    {
     "name": "stdout",
     "output_type": "stream",
     "text": [
      "1\n",
      "2\n",
      "5\n",
      "6\n"
     ]
    }
   ],
   "source": [
    "for i in [1,2,5,6]:\n",
    "    print(i)"
   ]
  },
  {
   "cell_type": "code",
   "execution_count": 119,
   "id": "a0a5ea4e",
   "metadata": {},
   "outputs": [
    {
     "data": {
      "text/plain": [
       "[0, 1, 4, 9, 16, 25, 36, 49, 64, 81]"
      ]
     },
     "execution_count": 119,
     "metadata": {},
     "output_type": "execute_result"
    }
   ],
   "source": [
    "[x**2 for x in range(10)]"
   ]
  },
  {
   "cell_type": "code",
   "execution_count": 120,
   "id": "dbcb4b35",
   "metadata": {},
   "outputs": [
    {
     "data": {
      "text/plain": [
       "{0, 1, 4, 9, 16, 25, 36, 49, 64, 81}"
      ]
     },
     "execution_count": 120,
     "metadata": {},
     "output_type": "execute_result"
    }
   ],
   "source": [
    "{x**2 for x in range(10)}"
   ]
  },
  {
   "cell_type": "markdown",
   "id": "72eb030d",
   "metadata": {},
   "source": [
    "# Dictionaries (Hashmap)\n",
    "- a set of key: value pairs\n",
    "- keys are unique\n"
   ]
  },
  {
   "cell_type": "code",
   "execution_count": 122,
   "id": "b05c026b",
   "metadata": {},
   "outputs": [],
   "source": [
    "students = {1: \"Nisha\", 2: \"Neha\", 3: \"Sunil\", 4: \"Annu\"}"
   ]
  },
  {
   "cell_type": "code",
   "execution_count": 123,
   "id": "7156c1f6",
   "metadata": {},
   "outputs": [
    {
     "data": {
      "text/plain": [
       "{1: 'Nisha', 2: 'Neha', 3: 'Sunil', 4: 'Annu'}"
      ]
     },
     "execution_count": 123,
     "metadata": {},
     "output_type": "execute_result"
    }
   ],
   "source": [
    "students"
   ]
  },
  {
   "cell_type": "code",
   "execution_count": 124,
   "id": "701c58ed",
   "metadata": {},
   "outputs": [
    {
     "data": {
      "text/plain": [
       "dict_keys([1, 2, 3, 4])"
      ]
     },
     "execution_count": 124,
     "metadata": {},
     "output_type": "execute_result"
    }
   ],
   "source": [
    "students.keys()"
   ]
  },
  {
   "cell_type": "code",
   "execution_count": 125,
   "id": "02726023",
   "metadata": {},
   "outputs": [
    {
     "data": {
      "text/plain": [
       "dict_values(['Nisha', 'Neha', 'Sunil', 'Annu'])"
      ]
     },
     "execution_count": 125,
     "metadata": {},
     "output_type": "execute_result"
    }
   ],
   "source": [
    "students.values()"
   ]
  },
  {
   "cell_type": "code",
   "execution_count": 126,
   "id": "7aafefdc",
   "metadata": {},
   "outputs": [
    {
     "data": {
      "text/plain": [
       "'Neha'"
      ]
     },
     "execution_count": 126,
     "metadata": {},
     "output_type": "execute_result"
    }
   ],
   "source": [
    "students[2]"
   ]
  },
  {
   "cell_type": "code",
   "execution_count": 127,
   "id": "21ffbf6f",
   "metadata": {},
   "outputs": [
    {
     "data": {
      "text/plain": [
       "True"
      ]
     },
     "execution_count": 127,
     "metadata": {},
     "output_type": "execute_result"
    }
   ],
   "source": [
    "3 in students"
   ]
  },
  {
   "cell_type": "code",
   "execution_count": 128,
   "id": "eb12d139",
   "metadata": {},
   "outputs": [
    {
     "name": "stdout",
     "output_type": "stream",
     "text": [
      "1 Nisha\n",
      "2 Neha\n",
      "3 Sunil\n",
      "4 Annu\n"
     ]
    }
   ],
   "source": [
    "for k,v in students.items():\n",
    "    print(k,v)"
   ]
  },
  {
   "cell_type": "code",
   "execution_count": 129,
   "id": "edfd6dcd",
   "metadata": {},
   "outputs": [],
   "source": [
    "students[2] = 'Mohan'"
   ]
  },
  {
   "cell_type": "code",
   "execution_count": 130,
   "id": "b2baae7c",
   "metadata": {},
   "outputs": [
    {
     "data": {
      "text/plain": [
       "{1: 'Nisha', 2: 'Mohan', 3: 'Sunil', 4: 'Annu'}"
      ]
     },
     "execution_count": 130,
     "metadata": {},
     "output_type": "execute_result"
    }
   ],
   "source": [
    "students"
   ]
  },
  {
   "cell_type": "code",
   "execution_count": 131,
   "id": "62d2a608",
   "metadata": {},
   "outputs": [],
   "source": [
    "del students[2]"
   ]
  },
  {
   "cell_type": "code",
   "execution_count": 132,
   "id": "f821c531",
   "metadata": {},
   "outputs": [
    {
     "data": {
      "text/plain": [
       "{1: 'Nisha', 3: 'Sunil', 4: 'Annu'}"
      ]
     },
     "execution_count": 132,
     "metadata": {},
     "output_type": "execute_result"
    }
   ],
   "source": [
    "students"
   ]
  },
  {
   "cell_type": "markdown",
   "id": "71590713",
   "metadata": {},
   "source": [
    "# Strings\n",
    "- list of characters\n"
   ]
  },
  {
   "cell_type": "code",
   "execution_count": 137,
   "id": "871fdba9",
   "metadata": {},
   "outputs": [
    {
     "data": {
      "text/plain": [
       "'spam eggs'"
      ]
     },
     "execution_count": 137,
     "metadata": {},
     "output_type": "execute_result"
    }
   ],
   "source": [
    "\"spam eggs\""
   ]
  },
  {
   "cell_type": "code",
   "execution_count": null,
   "id": "b035692d",
   "metadata": {},
   "outputs": [],
   "source": [
    "'spam eggs'  # single quotes"
   ]
  },
  {
   "cell_type": "code",
   "execution_count": null,
   "id": "5a0dd73c",
   "metadata": {},
   "outputs": [],
   "source": [
    "'doesn\\'t'  # use \\' to escape the single quote..."
   ]
  },
  {
   "cell_type": "code",
   "execution_count": null,
   "id": "4b6759d7",
   "metadata": {},
   "outputs": [],
   "source": [
    "\"doesn't\"  # ...or use double quotes instead"
   ]
  },
  {
   "cell_type": "code",
   "execution_count": null,
   "id": "25e8d0e0",
   "metadata": {},
   "outputs": [],
   "source": [
    "'doesn\"t'"
   ]
  },
  {
   "cell_type": "code",
   "execution_count": null,
   "id": "0b3e3420",
   "metadata": {},
   "outputs": [],
   "source": [
    "print(\"Hello World!\")"
   ]
  },
  {
   "cell_type": "code",
   "execution_count": null,
   "id": "65b1f500",
   "metadata": {},
   "outputs": [],
   "source": [
    "print(\"Hello \\n World\")"
   ]
  },
  {
   "cell_type": "code",
   "execution_count": null,
   "id": "5e1e5aa2",
   "metadata": {},
   "outputs": [],
   "source": [
    "print('C:\\some\\name')"
   ]
  },
  {
   "cell_type": "code",
   "execution_count": null,
   "id": "3871262e",
   "metadata": {},
   "outputs": [],
   "source": [
    "print(r'C:\\some\\name')"
   ]
  },
  {
   "cell_type": "code",
   "execution_count": null,
   "id": "b2337bdc",
   "metadata": {},
   "outputs": [],
   "source": [
    "print(\"\"\"\\\n",
    "Usage: thingy [OPTIONS]\n",
    "     -h                        Display this usage message\n",
    "     -H hostname               Hostname to connect to\n",
    "\"\"\")"
   ]
  },
  {
   "cell_type": "markdown",
   "id": "64a48780",
   "metadata": {},
   "source": [
    "# String functions \n",
    "\n",
    "- like list\n",
    "- https://docs.python.org/3/library/stdtypes.html#string-methods\n"
   ]
  },
  {
   "cell_type": "code",
   "execution_count": 145,
   "id": "c15e75c3",
   "metadata": {},
   "outputs": [],
   "source": [
    "my_string = \"Hello World!\""
   ]
  },
  {
   "cell_type": "code",
   "execution_count": 142,
   "id": "c27f29a7",
   "metadata": {},
   "outputs": [
    {
     "data": {
      "text/plain": [
       "'Hello World!'"
      ]
     },
     "execution_count": 142,
     "metadata": {},
     "output_type": "execute_result"
    }
   ],
   "source": [
    "my_string"
   ]
  },
  {
   "cell_type": "code",
   "execution_count": 146,
   "id": "9bfb693b",
   "metadata": {},
   "outputs": [
    {
     "data": {
      "text/plain": [
       "12"
      ]
     },
     "execution_count": 146,
     "metadata": {},
     "output_type": "execute_result"
    }
   ],
   "source": [
    "len(my_string)"
   ]
  },
  {
   "cell_type": "code",
   "execution_count": 147,
   "id": "4178bfa0",
   "metadata": {},
   "outputs": [
    {
     "data": {
      "text/plain": [
       "'H'"
      ]
     },
     "execution_count": 147,
     "metadata": {},
     "output_type": "execute_result"
    }
   ],
   "source": [
    "my_string[0]"
   ]
  },
  {
   "cell_type": "code",
   "execution_count": 148,
   "id": "f7d2cdd0",
   "metadata": {},
   "outputs": [
    {
     "data": {
      "text/plain": [
       "'!'"
      ]
     },
     "execution_count": 148,
     "metadata": {},
     "output_type": "execute_result"
    }
   ],
   "source": [
    "my_string[len(my_string) - 1]"
   ]
  },
  {
   "cell_type": "code",
   "execution_count": 149,
   "id": "0033e450",
   "metadata": {},
   "outputs": [
    {
     "data": {
      "text/plain": [
       "'llo World!'"
      ]
     },
     "execution_count": 149,
     "metadata": {},
     "output_type": "execute_result"
    }
   ],
   "source": [
    "my_string[2:]"
   ]
  },
  {
   "cell_type": "code",
   "execution_count": 151,
   "id": "2c60bff7",
   "metadata": {},
   "outputs": [
    {
     "data": {
      "text/plain": [
       "'Hello W'"
      ]
     },
     "execution_count": 151,
     "metadata": {},
     "output_type": "execute_result"
    }
   ],
   "source": [
    "my_string[:7]"
   ]
  },
  {
   "cell_type": "code",
   "execution_count": 153,
   "id": "eef266e7",
   "metadata": {},
   "outputs": [
    {
     "data": {
      "text/plain": [
       "'Hello World!Good Morning.'"
      ]
     },
     "execution_count": 153,
     "metadata": {},
     "output_type": "execute_result"
    }
   ],
   "source": [
    "my_string + \"Good Morning.\""
   ]
  },
  {
   "cell_type": "code",
   "execution_count": 154,
   "id": "ff9a72ff",
   "metadata": {},
   "outputs": [
    {
     "name": "stdout",
     "output_type": "stream",
     "text": [
      "H\n",
      "e\n",
      "l\n",
      "l\n",
      "o\n",
      " \n",
      "W\n",
      "o\n",
      "r\n",
      "l\n",
      "d\n",
      "!\n"
     ]
    }
   ],
   "source": [
    "for x in my_string:\n",
    "    print(x)"
   ]
  },
  {
   "cell_type": "code",
   "execution_count": 157,
   "id": "b562c069",
   "metadata": {},
   "outputs": [
    {
     "data": {
      "text/plain": [
       "True"
      ]
     },
     "execution_count": 157,
     "metadata": {},
     "output_type": "execute_result"
    }
   ],
   "source": [
    "'l' in my_string"
   ]
  },
  {
   "cell_type": "code",
   "execution_count": 158,
   "id": "e8c825f0",
   "metadata": {},
   "outputs": [
    {
     "data": {
      "text/plain": [
       "'hello world!'"
      ]
     },
     "execution_count": 158,
     "metadata": {},
     "output_type": "execute_result"
    }
   ],
   "source": [
    "my_string.lower()"
   ]
  },
  {
   "cell_type": "code",
   "execution_count": 160,
   "id": "640bc9d7",
   "metadata": {},
   "outputs": [
    {
     "data": {
      "text/plain": [
       "'HELLO WORLD!'"
      ]
     },
     "execution_count": 160,
     "metadata": {},
     "output_type": "execute_result"
    }
   ],
   "source": [
    "my_string.upper()"
   ]
  },
  {
   "cell_type": "code",
   "execution_count": 161,
   "id": "aa4ded47",
   "metadata": {},
   "outputs": [
    {
     "data": {
      "text/plain": [
       "'Hello world!'"
      ]
     },
     "execution_count": 161,
     "metadata": {},
     "output_type": "execute_result"
    }
   ],
   "source": [
    "my_string.capitalize()"
   ]
  },
  {
   "cell_type": "code",
   "execution_count": 165,
   "id": "2f300f20",
   "metadata": {},
   "outputs": [
    {
     "data": {
      "text/plain": [
       "'Hello World!'"
      ]
     },
     "execution_count": 165,
     "metadata": {},
     "output_type": "execute_result"
    }
   ],
   "source": [
    "my_string"
   ]
  },
  {
   "cell_type": "code",
   "execution_count": 168,
   "id": "a217fe4e",
   "metadata": {},
   "outputs": [
    {
     "data": {
      "text/plain": [
       "2"
      ]
     },
     "execution_count": 168,
     "metadata": {},
     "output_type": "execute_result"
    }
   ],
   "source": [
    "my_string.find(\"l\")"
   ]
  },
  {
   "cell_type": "code",
   "execution_count": 169,
   "id": "8bc17299",
   "metadata": {},
   "outputs": [
    {
     "data": {
      "text/plain": [
       "9"
      ]
     },
     "execution_count": 169,
     "metadata": {},
     "output_type": "execute_result"
    }
   ],
   "source": [
    "my_string.rfind(\"l\")"
   ]
  },
  {
   "cell_type": "markdown",
   "id": "3b381934",
   "metadata": {},
   "source": [
    "# Date & Time"
   ]
  },
  {
   "cell_type": "code",
   "execution_count": 170,
   "id": "9879c38b",
   "metadata": {},
   "outputs": [],
   "source": [
    "from datetime import date"
   ]
  },
  {
   "cell_type": "code",
   "execution_count": 171,
   "id": "3026f86b",
   "metadata": {},
   "outputs": [],
   "source": [
    "now = date.today()"
   ]
  },
  {
   "cell_type": "code",
   "execution_count": 172,
   "id": "59f864ec",
   "metadata": {},
   "outputs": [
    {
     "data": {
      "text/plain": [
       "datetime.date(2022, 3, 1)"
      ]
     },
     "execution_count": 172,
     "metadata": {},
     "output_type": "execute_result"
    }
   ],
   "source": [
    "now"
   ]
  },
  {
   "cell_type": "code",
   "execution_count": 173,
   "id": "dc24ed1d",
   "metadata": {},
   "outputs": [
    {
     "data": {
      "text/plain": [
       "'03-01-22. 01 Mar 2022 is a Tuesday on the 01 day of March.'"
      ]
     },
     "execution_count": 173,
     "metadata": {},
     "output_type": "execute_result"
    }
   ],
   "source": [
    "now.strftime(\"%m-%d-%y. %d %b %Y is a %A on the %d day of %B.\")"
   ]
  },
  {
   "cell_type": "code",
   "execution_count": 174,
   "id": "47e7292b",
   "metadata": {},
   "outputs": [],
   "source": [
    "birthday = date(1964, 7, 31)"
   ]
  },
  {
   "cell_type": "code",
   "execution_count": 175,
   "id": "d56d1f6f",
   "metadata": {},
   "outputs": [],
   "source": [
    "age = now - birthday"
   ]
  },
  {
   "cell_type": "code",
   "execution_count": 176,
   "id": "b519f830",
   "metadata": {},
   "outputs": [
    {
     "data": {
      "text/plain": [
       "21032"
      ]
     },
     "execution_count": 176,
     "metadata": {},
     "output_type": "execute_result"
    }
   ],
   "source": [
    "age.days"
   ]
  },
  {
   "cell_type": "code",
   "execution_count": 178,
   "id": "86cbb491",
   "metadata": {},
   "outputs": [
    {
     "ename": "AttributeError",
     "evalue": "'datetime.timedelta' object has no attribute 'month'",
     "output_type": "error",
     "traceback": [
      "\u001b[0;31m---------------------------------------------------------------------------\u001b[0m",
      "\u001b[0;31mAttributeError\u001b[0m                            Traceback (most recent call last)",
      "Input \u001b[0;32mIn [178]\u001b[0m, in \u001b[0;36m<cell line: 1>\u001b[0;34m()\u001b[0m\n\u001b[0;32m----> 1\u001b[0m age\u001b[38;5;241m.\u001b[39mmonth\n",
      "\u001b[0;31mAttributeError\u001b[0m: 'datetime.timedelta' object has no attribute 'month'"
     ]
    }
   ],
   "source": []
  },
  {
   "cell_type": "code",
   "execution_count": null,
   "id": "1bef419c",
   "metadata": {},
   "outputs": [],
   "source": []
  }
 ],
 "metadata": {
  "kernelspec": {
   "display_name": "Python 3 (ipykernel)",
   "language": "python",
   "name": "python3"
  },
  "language_info": {
   "codemirror_mode": {
    "name": "ipython",
    "version": 3
   },
   "file_extension": ".py",
   "mimetype": "text/x-python",
   "name": "python",
   "nbconvert_exporter": "python",
   "pygments_lexer": "ipython3",
   "version": "3.9.10"
  }
 },
 "nbformat": 4,
 "nbformat_minor": 5
}
