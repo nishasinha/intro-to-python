{
 "cells": [
  {
   "cell_type": "markdown",
   "id": "03c34bfa",
   "metadata": {},
   "source": [
    "# Define functions"
   ]
  },
  {
   "cell_type": "code",
   "execution_count": 13,
   "id": "86ed9b87",
   "metadata": {},
   "outputs": [],
   "source": [
    "def sum(a, b):\n",
    "    1+2+3\n",
    "    2+3\n",
    "    return a + b"
   ]
  },
  {
   "cell_type": "code",
   "execution_count": 14,
   "id": "97c25a2f",
   "metadata": {},
   "outputs": [
    {
     "data": {
      "text/plain": [
       "12"
      ]
     },
     "execution_count": 14,
     "metadata": {},
     "output_type": "execute_result"
    }
   ],
   "source": [
    "sum(10,2)"
   ]
  },
  {
   "cell_type": "code",
   "execution_count": 4,
   "id": "8da78750",
   "metadata": {},
   "outputs": [
    {
     "data": {
      "text/plain": [
       "11.1"
      ]
     },
     "execution_count": 4,
     "metadata": {},
     "output_type": "execute_result"
    }
   ],
   "source": [
    "sum(10.1, 1)"
   ]
  },
  {
   "cell_type": "code",
   "execution_count": 6,
   "id": "010755b1",
   "metadata": {},
   "outputs": [
    {
     "data": {
      "text/plain": [
       "'a1.3'"
      ]
     },
     "execution_count": 6,
     "metadata": {},
     "output_type": "execute_result"
    }
   ],
   "source": [
    "sum(\"a\", str(1.3))"
   ]
  },
  {
   "cell_type": "code",
   "execution_count": 8,
   "id": "26532563",
   "metadata": {},
   "outputs": [
    {
     "data": {
      "text/plain": [
       "[1, 2, 3]"
      ]
     },
     "execution_count": 8,
     "metadata": {},
     "output_type": "execute_result"
    }
   ],
   "source": [
    "sum([1,2], [3])"
   ]
  },
  {
   "cell_type": "code",
   "execution_count": 9,
   "id": "4006abb3",
   "metadata": {},
   "outputs": [],
   "source": [
    "def sum(a, b=1):\n",
    "    return a + b"
   ]
  },
  {
   "cell_type": "code",
   "execution_count": 10,
   "id": "75181e31",
   "metadata": {},
   "outputs": [
    {
     "data": {
      "text/plain": [
       "11"
      ]
     },
     "execution_count": 10,
     "metadata": {},
     "output_type": "execute_result"
    }
   ],
   "source": [
    "sum(10)"
   ]
  },
  {
   "cell_type": "code",
   "execution_count": 11,
   "id": "ce4cfa2d",
   "metadata": {},
   "outputs": [
    {
     "ename": "TypeError",
     "evalue": "sum() missing 1 required positional argument: 'a'",
     "output_type": "error",
     "traceback": [
      "\u001b[0;31m---------------------------------------------------------------------------\u001b[0m",
      "\u001b[0;31mTypeError\u001b[0m                                 Traceback (most recent call last)",
      "Input \u001b[0;32mIn [11]\u001b[0m, in \u001b[0;36m<cell line: 1>\u001b[0;34m()\u001b[0m\n\u001b[0;32m----> 1\u001b[0m \u001b[38;5;28msum\u001b[39m(b\u001b[38;5;241m=\u001b[39m\u001b[38;5;241m2\u001b[39m)\n",
      "\u001b[0;31mTypeError\u001b[0m: sum() missing 1 required positional argument: 'a'"
     ]
    }
   ],
   "source": [
    "sum(b=2)"
   ]
  },
  {
   "cell_type": "code",
   "execution_count": 12,
   "id": "ce65acfe",
   "metadata": {},
   "outputs": [
    {
     "data": {
      "text/plain": [
       "7"
      ]
     },
     "execution_count": 12,
     "metadata": {},
     "output_type": "execute_result"
    }
   ],
   "source": [
    "sum(b=2, a= 5)"
   ]
  },
  {
   "cell_type": "markdown",
   "id": "d70ee14b",
   "metadata": {},
   "source": [
    "# if, elif, else"
   ]
  },
  {
   "cell_type": "code",
   "execution_count": 18,
   "id": "542782f1",
   "metadata": {},
   "outputs": [],
   "source": [
    "def dummy(x):\n",
    "    if x == 10:\n",
    "        print(\"x is 10\")\n",
    "        print(\"Exiting...\")\n",
    "    elif x > 10:\n",
    "        print(\"x > 10\")\n",
    "        print(\"Exiting...\")\n",
    "    else:\n",
    "        print(\"x < 10\")\n",
    "        print(\"Exiting...\")"
   ]
  },
  {
   "cell_type": "code",
   "execution_count": 19,
   "id": "07f3d533",
   "metadata": {},
   "outputs": [
    {
     "name": "stdout",
     "output_type": "stream",
     "text": [
      "x is 10\n",
      "Exiting...\n"
     ]
    }
   ],
   "source": [
    "dummy(10)"
   ]
  },
  {
   "cell_type": "code",
   "execution_count": 20,
   "id": "6a7262b8",
   "metadata": {},
   "outputs": [
    {
     "name": "stdout",
     "output_type": "stream",
     "text": [
      "x < 10\n",
      "Exiting...\n"
     ]
    }
   ],
   "source": [
    "dummy(9)"
   ]
  },
  {
   "cell_type": "code",
   "execution_count": 21,
   "id": "2068ed4a",
   "metadata": {},
   "outputs": [
    {
     "name": "stdout",
     "output_type": "stream",
     "text": [
      "x > 10\n",
      "Exiting...\n"
     ]
    }
   ],
   "source": [
    "dummy(11)"
   ]
  },
  {
   "cell_type": "code",
   "execution_count": 24,
   "id": "ab3d44a6",
   "metadata": {},
   "outputs": [
    {
     "data": {
      "text/plain": [
       "False"
      ]
     },
     "execution_count": 24,
     "metadata": {},
     "output_type": "execute_result"
    }
   ],
   "source": [
    "\"a\" == \"b\""
   ]
  },
  {
   "cell_type": "code",
   "execution_count": 30,
   "id": "0d9f063e",
   "metadata": {},
   "outputs": [],
   "source": [
    "def compare_chars(some_var):\n",
    "    for x in some_var:\n",
    "        if x < \"m\":\n",
    "            print(\"less than m: \", x)\n",
    "        elif x > \"m\":\n",
    "            print(\"greater than m: \", x)\n",
    "        else:\n",
    "            print(\"x is m:\", x)\n",
    "        "
   ]
  },
  {
   "cell_type": "code",
   "execution_count": 31,
   "id": "f7e52dfe",
   "metadata": {},
   "outputs": [
    {
     "name": "stdout",
     "output_type": "stream",
     "text": [
      "less than m:  a\n",
      "greater than m:  z\n",
      "less than m:  b\n",
      "greater than m:  y\n",
      "x is m: m\n"
     ]
    }
   ],
   "source": [
    "compare_chars(\"azbym\")"
   ]
  },
  {
   "cell_type": "markdown",
   "id": "efbf5b28",
   "metadata": {},
   "source": [
    "# for, break, continue, range"
   ]
  },
  {
   "cell_type": "code",
   "execution_count": 32,
   "id": "309ba632",
   "metadata": {},
   "outputs": [],
   "source": [
    "words = ['cat', 'window', 'defenestrate']"
   ]
  },
  {
   "cell_type": "code",
   "execution_count": 34,
   "id": "7eeb3f46",
   "metadata": {},
   "outputs": [
    {
     "name": "stdout",
     "output_type": "stream",
     "text": [
      "cat 3 CAT Cat\n",
      "window 6 WINDOW Window\n",
      "defenestrate 12 DEFENESTRATE Defenestrate\n"
     ]
    }
   ],
   "source": [
    "for w in words:\n",
    "    print(w, len(w), w.upper(), w.capitalize())"
   ]
  },
  {
   "cell_type": "code",
   "execution_count": 35,
   "id": "fa91170c",
   "metadata": {},
   "outputs": [
    {
     "data": {
      "text/plain": [
       "range(0, 10)"
      ]
     },
     "execution_count": 35,
     "metadata": {},
     "output_type": "execute_result"
    }
   ],
   "source": [
    "range(10)"
   ]
  },
  {
   "cell_type": "code",
   "execution_count": 36,
   "id": "064b0142",
   "metadata": {},
   "outputs": [
    {
     "data": {
      "text/plain": [
       "[0, 1, 2, 3, 4, 5, 6, 7, 8, 9]"
      ]
     },
     "execution_count": 36,
     "metadata": {},
     "output_type": "execute_result"
    }
   ],
   "source": [
    "list(range(10))"
   ]
  },
  {
   "cell_type": "code",
   "execution_count": 44,
   "id": "34498033",
   "metadata": {},
   "outputs": [
    {
     "name": "stdout",
     "output_type": "stream",
     "text": [
      "3\n",
      "6\n",
      "9\n",
      "12\n",
      "15\n",
      "18\n",
      "21\n",
      "24\n",
      "27\n",
      "30\n"
     ]
    }
   ],
   "source": [
    "for i in list(range(3, 31, 3)):\n",
    "    print(i)"
   ]
  },
  {
   "cell_type": "code",
   "execution_count": 45,
   "id": "5fd71468",
   "metadata": {},
   "outputs": [
    {
     "data": {
      "text/plain": [
       "[0, 1, 2, 3, 4, 5, 6, 7, 8, 9]"
      ]
     },
     "execution_count": 45,
     "metadata": {},
     "output_type": "execute_result"
    }
   ],
   "source": [
    "[x for x in range(10)]"
   ]
  },
  {
   "cell_type": "code",
   "execution_count": null,
   "id": "bb23318a",
   "metadata": {},
   "outputs": [],
   "source": []
  },
  {
   "cell_type": "code",
   "execution_count": 46,
   "id": "716ade30",
   "metadata": {},
   "outputs": [
    {
     "name": "stdout",
     "output_type": "stream",
     "text": [
      "0\n",
      "1\n",
      "2\n",
      "3\n",
      "4\n",
      "5\n",
      "6\n",
      "7\n",
      "8\n",
      "9\n"
     ]
    }
   ],
   "source": [
    "for x in range(10):\n",
    "    print(x)"
   ]
  },
  {
   "cell_type": "code",
   "execution_count": 47,
   "id": "32a05f5c",
   "metadata": {},
   "outputs": [
    {
     "data": {
      "text/plain": [
       "[1, 2, 3, 4]"
      ]
     },
     "execution_count": 47,
     "metadata": {},
     "output_type": "execute_result"
    }
   ],
   "source": [
    "list(range(1,5))"
   ]
  },
  {
   "cell_type": "code",
   "execution_count": 48,
   "id": "cacbe10e",
   "metadata": {},
   "outputs": [
    {
     "name": "stdout",
     "output_type": "stream",
     "text": [
      "Print:  0\n",
      "Print:  1\n",
      "Print:  2\n",
      "Print:  3\n",
      "Print:  4\n",
      "Print:  5\n",
      "Print:  6\n",
      "Print:  7\n",
      "Print:  8\n",
      "Print:  9\n"
     ]
    }
   ],
   "source": [
    "for num in range(10):\n",
    "    print(\"Print: \", num)           "
   ]
  },
  {
   "cell_type": "code",
   "execution_count": 49,
   "id": "da8033ea",
   "metadata": {},
   "outputs": [
    {
     "name": "stdout",
     "output_type": "stream",
     "text": [
      "Print:  0\n",
      "Print:  1\n",
      "Print:  2\n",
      "Print:  3\n",
      "Print:  4\n",
      "Number == 5, break!\n"
     ]
    }
   ],
   "source": [
    "for num in range(10):\n",
    "    if num == 5:\n",
    "        print(\"Number == 5, break!\")\n",
    "        break\n",
    "    print(\"Print: \", num)"
   ]
  },
  {
   "cell_type": "code",
   "execution_count": 53,
   "id": "7c5b43fc",
   "metadata": {},
   "outputs": [
    {
     "name": "stdout",
     "output_type": "stream",
     "text": [
      "Print:  0\n",
      "Print:  1\n",
      "Print:  2\n",
      "Print:  3\n",
      "Print:  4\n",
      "Number == 5 or 7, continue!\n",
      "Print:  6\n",
      "Number == 5 or 7, continue!\n",
      "Print:  8\n",
      "Print:  9\n"
     ]
    }
   ],
   "source": [
    "for num in range(10):\n",
    "    if num == 5 or num == 7:\n",
    "        print(\"Number == 5 or 7, continue!\")\n",
    "        continue\n",
    "    print(\"Print: \", num)"
   ]
  },
  {
   "cell_type": "code",
   "execution_count": null,
   "id": "f74297cd",
   "metadata": {},
   "outputs": [],
   "source": [
    "# or and not "
   ]
  },
  {
   "cell_type": "code",
   "execution_count": 55,
   "id": "145a338e",
   "metadata": {},
   "outputs": [
    {
     "data": {
      "text/plain": [
       "False"
      ]
     },
     "execution_count": 55,
     "metadata": {},
     "output_type": "execute_result"
    }
   ],
   "source": [
    "2 not in [1,2,3]"
   ]
  },
  {
   "cell_type": "code",
   "execution_count": null,
   "id": "43ba73cb",
   "metadata": {},
   "outputs": [],
   "source": []
  }
 ],
 "metadata": {
  "kernelspec": {
   "display_name": "Python 3 (ipykernel)",
   "language": "python",
   "name": "python3"
  },
  "language_info": {
   "codemirror_mode": {
    "name": "ipython",
    "version": 3
   },
   "file_extension": ".py",
   "mimetype": "text/x-python",
   "name": "python",
   "nbconvert_exporter": "python",
   "pygments_lexer": "ipython3",
   "version": "3.9.10"
  }
 },
 "nbformat": 4,
 "nbformat_minor": 5
}
