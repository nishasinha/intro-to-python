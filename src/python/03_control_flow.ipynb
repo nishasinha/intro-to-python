{
 "cells": [
  {
   "cell_type": "markdown",
   "id": "03c34bfa",
   "metadata": {},
   "source": [
    "# Define functions"
   ]
  },
  {
   "cell_type": "code",
   "execution_count": 1,
   "id": "86ed9b87",
   "metadata": {},
   "outputs": [],
   "source": [
    "def sum(a, b):\n",
    "    return a + b"
   ]
  },
  {
   "cell_type": "code",
   "execution_count": 2,
   "id": "97c25a2f",
   "metadata": {},
   "outputs": [
    {
     "data": {
      "text/plain": [
       "12"
      ]
     },
     "execution_count": 2,
     "metadata": {},
     "output_type": "execute_result"
    }
   ],
   "source": [
    "sum(10,2)"
   ]
  },
  {
   "cell_type": "code",
   "execution_count": 3,
   "id": "4006abb3",
   "metadata": {},
   "outputs": [],
   "source": [
    "def sum(a, b=1):\n",
    "    return a + b"
   ]
  },
  {
   "cell_type": "code",
   "execution_count": 4,
   "id": "75181e31",
   "metadata": {},
   "outputs": [
    {
     "data": {
      "text/plain": [
       "11"
      ]
     },
     "execution_count": 4,
     "metadata": {},
     "output_type": "execute_result"
    }
   ],
   "source": [
    "sum(10)"
   ]
  },
  {
   "cell_type": "code",
   "execution_count": 5,
   "id": "ce4cfa2d",
   "metadata": {},
   "outputs": [
    {
     "ename": "TypeError",
     "evalue": "sum() missing 1 required positional argument: 'a'",
     "output_type": "error",
     "traceback": [
      "\u001b[0;31m---------------------------------------------------------------------------\u001b[0m",
      "\u001b[0;31mTypeError\u001b[0m                                 Traceback (most recent call last)",
      "Input \u001b[0;32mIn [5]\u001b[0m, in \u001b[0;36m<cell line: 1>\u001b[0;34m()\u001b[0m\n\u001b[0;32m----> 1\u001b[0m \u001b[38;5;28msum\u001b[39m(b\u001b[38;5;241m=\u001b[39m\u001b[38;5;241m2\u001b[39m)\n",
      "\u001b[0;31mTypeError\u001b[0m: sum() missing 1 required positional argument: 'a'"
     ]
    }
   ],
   "source": [
    "sum(b=2)"
   ]
  },
  {
   "cell_type": "code",
   "execution_count": 6,
   "id": "ce65acfe",
   "metadata": {},
   "outputs": [
    {
     "data": {
      "text/plain": [
       "7"
      ]
     },
     "execution_count": 6,
     "metadata": {},
     "output_type": "execute_result"
    }
   ],
   "source": [
    "sum(b=2, a= 5)"
   ]
  },
  {
   "cell_type": "markdown",
   "id": "d70ee14b",
   "metadata": {},
   "source": [
    "# if, elif, else"
   ]
  },
  {
   "cell_type": "code",
   "execution_count": 37,
   "id": "542782f1",
   "metadata": {},
   "outputs": [],
   "source": [
    "def dummy(x):\n",
    "    if x == 10:\n",
    "        print(\"x is 100\")\n",
    "        print(\"Exiting...\")\n",
    "    elif x > 10:\n",
    "        print(\"x > 10\")\n",
    "        print(\"Exiting...\")\n",
    "    else:\n",
    "        print(\"x < 10\")\n",
    "        print(\"Exiting...\")"
   ]
  },
  {
   "cell_type": "code",
   "execution_count": 38,
   "id": "07f3d533",
   "metadata": {},
   "outputs": [
    {
     "name": "stdout",
     "output_type": "stream",
     "text": [
      "x is 100\n",
      "Exiting...\n"
     ]
    }
   ],
   "source": [
    "dummy(10)"
   ]
  },
  {
   "cell_type": "code",
   "execution_count": 39,
   "id": "6a7262b8",
   "metadata": {},
   "outputs": [
    {
     "name": "stdout",
     "output_type": "stream",
     "text": [
      "x < 10\n",
      "Exiting...\n"
     ]
    }
   ],
   "source": [
    "dummy(9)"
   ]
  },
  {
   "cell_type": "code",
   "execution_count": 40,
   "id": "2068ed4a",
   "metadata": {},
   "outputs": [
    {
     "name": "stdout",
     "output_type": "stream",
     "text": [
      "x > 10\n",
      "Exiting...\n"
     ]
    }
   ],
   "source": [
    "dummy(11)"
   ]
  },
  {
   "cell_type": "markdown",
   "id": "efbf5b28",
   "metadata": {},
   "source": [
    "# for, break, continue, range"
   ]
  },
  {
   "cell_type": "code",
   "execution_count": 42,
   "id": "309ba632",
   "metadata": {},
   "outputs": [],
   "source": [
    "words = ['cat', 'window', 'defenestrate']"
   ]
  },
  {
   "cell_type": "code",
   "execution_count": 118,
   "id": "7eeb3f46",
   "metadata": {},
   "outputs": [
    {
     "name": "stdout",
     "output_type": "stream",
     "text": [
      "cat 3\n",
      "window 6\n",
      "defenestrate 12\n"
     ]
    }
   ],
   "source": [
    "for w in words:\n",
    "    print(w, len(w))"
   ]
  },
  {
   "cell_type": "code",
   "execution_count": 45,
   "id": "fa91170c",
   "metadata": {},
   "outputs": [
    {
     "data": {
      "text/plain": [
       "range(0, 10)"
      ]
     },
     "execution_count": 45,
     "metadata": {},
     "output_type": "execute_result"
    }
   ],
   "source": [
    "range(10)"
   ]
  },
  {
   "cell_type": "code",
   "execution_count": 50,
   "id": "064b0142",
   "metadata": {},
   "outputs": [
    {
     "data": {
      "text/plain": [
       "[0, 1, 2, 3, 4, 5, 6, 7, 8, 9]"
      ]
     },
     "execution_count": 50,
     "metadata": {},
     "output_type": "execute_result"
    }
   ],
   "source": [
    "list(range(10))"
   ]
  },
  {
   "cell_type": "code",
   "execution_count": 46,
   "id": "716ade30",
   "metadata": {},
   "outputs": [
    {
     "name": "stdout",
     "output_type": "stream",
     "text": [
      "0\n",
      "1\n",
      "2\n",
      "3\n",
      "4\n",
      "5\n",
      "6\n",
      "7\n",
      "8\n",
      "9\n"
     ]
    }
   ],
   "source": [
    "for x in range(10):\n",
    "    print(x)"
   ]
  },
  {
   "cell_type": "code",
   "execution_count": 47,
   "id": "32a05f5c",
   "metadata": {},
   "outputs": [
    {
     "data": {
      "text/plain": [
       "[1, 2, 3, 4]"
      ]
     },
     "execution_count": 47,
     "metadata": {},
     "output_type": "execute_result"
    }
   ],
   "source": [
    "list(range(1,5))"
   ]
  },
  {
   "cell_type": "code",
   "execution_count": 120,
   "id": "cacbe10e",
   "metadata": {},
   "outputs": [
    {
     "name": "stdout",
     "output_type": "stream",
     "text": [
      "Print:  0\n",
      "Print:  1\n",
      "Print:  2\n",
      "Print:  3\n",
      "Print:  4\n",
      "Print:  5\n",
      "Print:  6\n",
      "Print:  7\n",
      "Print:  8\n",
      "Print:  9\n"
     ]
    }
   ],
   "source": [
    "for num in range(10):\n",
    "    print(\"Print: \", num)           "
   ]
  },
  {
   "cell_type": "code",
   "execution_count": 122,
   "id": "da8033ea",
   "metadata": {},
   "outputs": [
    {
     "name": "stdout",
     "output_type": "stream",
     "text": [
      "Print:  0\n",
      "Print:  1\n",
      "Print:  2\n",
      "Print:  3\n",
      "Print:  4\n",
      "Number == 5, break!\n"
     ]
    }
   ],
   "source": [
    "for num in range(10):\n",
    "    if num == 5:\n",
    "        print(\"Number == 5, break!\")\n",
    "        break\n",
    "    print(\"Print: \", num)"
   ]
  },
  {
   "cell_type": "code",
   "execution_count": 123,
   "id": "7c5b43fc",
   "metadata": {},
   "outputs": [
    {
     "name": "stdout",
     "output_type": "stream",
     "text": [
      "Print:  0\n",
      "Print:  1\n",
      "Print:  2\n",
      "Print:  3\n",
      "Print:  4\n",
      "Number == 5, continue!\n",
      "Print:  6\n",
      "Print:  7\n",
      "Print:  8\n",
      "Print:  9\n"
     ]
    }
   ],
   "source": [
    "for num in range(10):\n",
    "    if num == 5:\n",
    "        print(\"Number == 5, continue!\")\n",
    "        continue\n",
    "    print(\"Print: \", num)"
   ]
  }
 ],
 "metadata": {
  "kernelspec": {
   "display_name": "Python 3 (ipykernel)",
   "language": "python",
   "name": "python3"
  },
  "language_info": {
   "codemirror_mode": {
    "name": "ipython",
    "version": 3
   },
   "file_extension": ".py",
   "mimetype": "text/x-python",
   "name": "python",
   "nbconvert_exporter": "python",
   "pygments_lexer": "ipython3",
   "version": "3.9.10"
  }
 },
 "nbformat": 4,
 "nbformat_minor": 5
}
