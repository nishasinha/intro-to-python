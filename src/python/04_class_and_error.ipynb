{
 "cells": [
  {
   "cell_type": "code",
   "execution_count": null,
   "id": "b5138dce",
   "metadata": {},
   "outputs": [],
   "source": [
    "# Class"
   ]
  },
  {
   "cell_type": "code",
   "execution_count": 12,
   "id": "9f64b70b",
   "metadata": {},
   "outputs": [],
   "source": [
    "class Employee: # define class\n",
    "   empCount = 0 # class variable\n",
    "\n",
    "   def __init__(self, name, salary): # constructor\n",
    "      self.name = name\n",
    "      self.salary = salary\n",
    "      Employee.empCount += 1\n",
    "   \n",
    "   def displayCount(self):\n",
    "     print(\"Total Employee: {}\".format(Employee.empCount))\n",
    "\n",
    "   def displayEmployee(self): # class method\n",
    "      print(\"Name {}: , Salary: {}\".format(self.name, self.salary))\n"
   ]
  },
  {
   "cell_type": "code",
   "execution_count": 13,
   "id": "d61f41b6",
   "metadata": {},
   "outputs": [],
   "source": [
    "emp1 = Employee(\"Zara\", 2000)"
   ]
  },
  {
   "cell_type": "code",
   "execution_count": 14,
   "id": "f1a40c88",
   "metadata": {},
   "outputs": [
    {
     "name": "stdout",
     "output_type": "stream",
     "text": [
      "Name Zara: , Salary: 2000\n"
     ]
    }
   ],
   "source": [
    "emp1.displayEmployee()"
   ]
  },
  {
   "cell_type": "code",
   "execution_count": 15,
   "id": "d9dd1d39",
   "metadata": {},
   "outputs": [
    {
     "name": "stdout",
     "output_type": "stream",
     "text": [
      "Total Employee: 1\n"
     ]
    }
   ],
   "source": [
    "emp1.displayCount()"
   ]
  },
  {
   "cell_type": "code",
   "execution_count": 16,
   "id": "514d7704",
   "metadata": {},
   "outputs": [],
   "source": [
    "emp2 = Employee(\"Manni\", 5000)"
   ]
  },
  {
   "cell_type": "code",
   "execution_count": 17,
   "id": "8d2c4600",
   "metadata": {},
   "outputs": [
    {
     "name": "stdout",
     "output_type": "stream",
     "text": [
      "Name Manni: , Salary: 5000\n"
     ]
    }
   ],
   "source": [
    "emp2.displayEmployee()"
   ]
  },
  {
   "cell_type": "code",
   "execution_count": 18,
   "id": "11556c33",
   "metadata": {},
   "outputs": [
    {
     "name": "stdout",
     "output_type": "stream",
     "text": [
      "Total Employee: 2\n"
     ]
    }
   ],
   "source": [
    "emp1.displayCount()"
   ]
  },
  {
   "cell_type": "code",
   "execution_count": 19,
   "id": "ab94a2df",
   "metadata": {},
   "outputs": [
    {
     "name": "stdout",
     "output_type": "stream",
     "text": [
      "Total Employee: 2\n"
     ]
    }
   ],
   "source": [
    "emp2.displayCount()"
   ]
  },
  {
   "cell_type": "markdown",
   "id": "503ab7e6",
   "metadata": {},
   "source": [
    "# Error handling"
   ]
  },
  {
   "cell_type": "code",
   "execution_count": 20,
   "id": "926ae3b8",
   "metadata": {},
   "outputs": [],
   "source": [
    "a = 10\n",
    "b = 0"
   ]
  },
  {
   "cell_type": "code",
   "execution_count": 21,
   "id": "16e84302",
   "metadata": {},
   "outputs": [
    {
     "ename": "ZeroDivisionError",
     "evalue": "division by zero",
     "output_type": "error",
     "traceback": [
      "\u001b[0;31m---------------------------------------------------------------------------\u001b[0m",
      "\u001b[0;31mZeroDivisionError\u001b[0m                         Traceback (most recent call last)",
      "Input \u001b[0;32mIn [21]\u001b[0m, in \u001b[0;36m<cell line: 1>\u001b[0;34m()\u001b[0m\n\u001b[0;32m----> 1\u001b[0m a\u001b[38;5;241m/\u001b[39mb\n",
      "\u001b[0;31mZeroDivisionError\u001b[0m: division by zero"
     ]
    }
   ],
   "source": [
    "a/b"
   ]
  },
  {
   "cell_type": "code",
   "execution_count": 24,
   "id": "50815ae0",
   "metadata": {},
   "outputs": [
    {
     "name": "stdout",
     "output_type": "stream",
     "text": [
      "Error is:  division by zero\n"
     ]
    }
   ],
   "source": [
    "try:\n",
    "    a/b\n",
    "except Exception as e:\n",
    "    print(\"Exception caught: \", e)"
   ]
  },
  {
   "cell_type": "code",
   "execution_count": 28,
   "id": "c336f94e",
   "metadata": {},
   "outputs": [
    {
     "name": "stdout",
     "output_type": "stream",
     "text": [
      "ZeroDivisionError caught:  division by zero\n"
     ]
    }
   ],
   "source": [
    "try:\n",
    "    a/b\n",
    "except ZeroDivisionError as e:\n",
    "    print(\"ZeroDivisionError caught: \", e)"
   ]
  },
  {
   "cell_type": "code",
   "execution_count": 33,
   "id": "380edac8",
   "metadata": {},
   "outputs": [
    {
     "name": "stdout",
     "output_type": "stream",
     "text": [
      "Exception caught:  list index out of range\n"
     ]
    }
   ],
   "source": [
    "try:\n",
    "    dummy = [1]\n",
    "    dummy[10]\n",
    "except ZeroDivisionError as e:\n",
    "    print(\"ZeroDivisionError caught: \", e)\n",
    "except Exception as e:\n",
    "    print(\"Exception caught: \", e)"
   ]
  },
  {
   "cell_type": "code",
   "execution_count": 34,
   "id": "2b0976c9",
   "metadata": {},
   "outputs": [],
   "source": [
    "import argparse"
   ]
  },
  {
   "cell_type": "code",
   "execution_count": null,
   "id": "dcb93148",
   "metadata": {},
   "outputs": [],
   "source": []
  },
  {
   "cell_type": "code",
   "execution_count": null,
   "id": "17bfe7b1",
   "metadata": {},
   "outputs": [],
   "source": []
  }
 ],
 "metadata": {
  "kernelspec": {
   "display_name": "Python 3 (ipykernel)",
   "language": "python",
   "name": "python3"
  },
  "language_info": {
   "codemirror_mode": {
    "name": "ipython",
    "version": 3
   },
   "file_extension": ".py",
   "mimetype": "text/x-python",
   "name": "python",
   "nbconvert_exporter": "python",
   "pygments_lexer": "ipython3",
   "version": "3.9.10"
  }
 },
 "nbformat": 4,
 "nbformat_minor": 5
}
