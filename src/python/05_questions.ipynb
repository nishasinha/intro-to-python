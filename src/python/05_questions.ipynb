{
 "cells": [
  {
   "cell_type": "markdown",
   "id": "d0f58a94",
   "metadata": {},
   "source": [
    "1. Given a list of numbers. write a program to turn every item of a list into its square.\n",
    "\n",
    "Input: [1,2,3,4]\n",
    "Output: [2,4,9,16]"
   ]
  },
  {
   "cell_type": "code",
   "execution_count": 2,
   "id": "9362056d",
   "metadata": {},
   "outputs": [],
   "source": [
    "def sqaure(my_list):\n",
    "    pass"
   ]
  },
  {
   "cell_type": "code",
   "execution_count": 3,
   "id": "4877269c",
   "metadata": {},
   "outputs": [],
   "source": [
    "sqaure([1,2,3,4])"
   ]
  },
  {
   "cell_type": "markdown",
   "id": "b24f40ea",
   "metadata": {},
   "source": [
    "2. Given a Python list, write a program to remove all occurrences of item 20.\n",
    "\n",
    "Input: [1, 20, 2, 20, 20, 3]\n",
    "Output: [1, 2, 3]"
   ]
  },
  {
   "cell_type": "code",
   "execution_count": null,
   "id": "0060844f",
   "metadata": {},
   "outputs": [],
   "source": []
  },
  {
   "cell_type": "code",
   "execution_count": null,
   "id": "afa95bec",
   "metadata": {},
   "outputs": [],
   "source": [
    "3. Write a program to accept a number from a user and calculate the sum of all numbers from 1 to a given number\n",
    "\n",
    "For example, if the user entered 10 the output should be 55 (1+2+3+4+5+6+7+8+9+10)"
   ]
  },
  {
   "cell_type": "code",
   "execution_count": null,
   "id": "a20bcc59",
   "metadata": {},
   "outputs": [],
   "source": []
  },
  {
   "cell_type": "code",
   "execution_count": null,
   "id": "3d05e303",
   "metadata": {},
   "outputs": [],
   "source": [
    "4. Get all values from the dictionary and add them to a list but don’t add duplicates\n",
    "\n",
    "Input: speed = {'jan': 47, 'feb': 52, 'march': 47, 'April': 44, 'May': 52}\n",
    "Output: [47, 52, 44]\n"
   ]
  }
 ],
 "metadata": {
  "kernelspec": {
   "display_name": "Python 3 (ipykernel)",
   "language": "python",
   "name": "python3"
  },
  "language_info": {
   "codemirror_mode": {
    "name": "ipython",
    "version": 3
   },
   "file_extension": ".py",
   "mimetype": "text/x-python",
   "name": "python",
   "nbconvert_exporter": "python",
   "pygments_lexer": "ipython3",
   "version": "3.9.10"
  }
 },
 "nbformat": 4,
 "nbformat_minor": 5
}
